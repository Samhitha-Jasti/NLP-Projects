{
 "cells": [
  {
   "cell_type": "code",
   "execution_count": 1,
   "id": "ff0d9ee4",
   "metadata": {},
   "outputs": [],
   "source": [
    "import pandas as pd\n",
    "import numpy as np\n",
    "import re          #regular expression\n",
    "import seaborn as sns\n",
    "import matplotlib.pyplot as plt\n",
    "import warnings\n",
    "warnings.simplefilter(\"ignore\")"
   ]
  },
  {
   "cell_type": "code",
   "execution_count": 2,
   "id": "5455028e",
   "metadata": {},
   "outputs": [
    {
     "data": {
      "text/html": [
       "<div>\n",
       "<style scoped>\n",
       "    .dataframe tbody tr th:only-of-type {\n",
       "        vertical-align: middle;\n",
       "    }\n",
       "\n",
       "    .dataframe tbody tr th {\n",
       "        vertical-align: top;\n",
       "    }\n",
       "\n",
       "    .dataframe thead th {\n",
       "        text-align: right;\n",
       "    }\n",
       "</style>\n",
       "<table border=\"1\" class=\"dataframe\">\n",
       "  <thead>\n",
       "    <tr style=\"text-align: right;\">\n",
       "      <th></th>\n",
       "      <th>Text</th>\n",
       "      <th>Language</th>\n",
       "    </tr>\n",
       "  </thead>\n",
       "  <tbody>\n",
       "    <tr>\n",
       "      <th>0</th>\n",
       "      <td>Nature, in the broadest sense, is the natural...</td>\n",
       "      <td>English</td>\n",
       "    </tr>\n",
       "    <tr>\n",
       "      <th>1</th>\n",
       "      <td>\"Nature\" can refer to the phenomena of the phy...</td>\n",
       "      <td>English</td>\n",
       "    </tr>\n",
       "    <tr>\n",
       "      <th>2</th>\n",
       "      <td>The study of nature is a large, if not the onl...</td>\n",
       "      <td>English</td>\n",
       "    </tr>\n",
       "    <tr>\n",
       "      <th>3</th>\n",
       "      <td>Although humans are part of nature, human acti...</td>\n",
       "      <td>English</td>\n",
       "    </tr>\n",
       "    <tr>\n",
       "      <th>4</th>\n",
       "      <td>[1] The word nature is borrowed from the Old F...</td>\n",
       "      <td>English</td>\n",
       "    </tr>\n",
       "    <tr>\n",
       "      <th>5</th>\n",
       "      <td>[2] In ancient philosophy, natura is mostly us...</td>\n",
       "      <td>English</td>\n",
       "    </tr>\n",
       "    <tr>\n",
       "      <th>6</th>\n",
       "      <td>[3][4] \\nThe concept of nature as a whole, the...</td>\n",
       "      <td>English</td>\n",
       "    </tr>\n",
       "    <tr>\n",
       "      <th>7</th>\n",
       "      <td>During the advent of modern scientific method ...</td>\n",
       "      <td>English</td>\n",
       "    </tr>\n",
       "    <tr>\n",
       "      <th>8</th>\n",
       "      <td>[5][6] With the Industrial revolution, nature ...</td>\n",
       "      <td>English</td>\n",
       "    </tr>\n",
       "    <tr>\n",
       "      <th>9</th>\n",
       "      <td>However, a vitalist vision of nature, closer t...</td>\n",
       "      <td>English</td>\n",
       "    </tr>\n",
       "  </tbody>\n",
       "</table>\n",
       "</div>"
      ],
      "text/plain": [
       "                                                Text Language\n",
       "0   Nature, in the broadest sense, is the natural...  English\n",
       "1  \"Nature\" can refer to the phenomena of the phy...  English\n",
       "2  The study of nature is a large, if not the onl...  English\n",
       "3  Although humans are part of nature, human acti...  English\n",
       "4  [1] The word nature is borrowed from the Old F...  English\n",
       "5  [2] In ancient philosophy, natura is mostly us...  English\n",
       "6  [3][4] \\nThe concept of nature as a whole, the...  English\n",
       "7  During the advent of modern scientific method ...  English\n",
       "8  [5][6] With the Industrial revolution, nature ...  English\n",
       "9  However, a vitalist vision of nature, closer t...  English"
      ]
     },
     "execution_count": 2,
     "metadata": {},
     "output_type": "execute_result"
    }
   ],
   "source": [
    "data = pd.read_csv(\"Language Detection.csv\")\n",
    "data.head(10)"
   ]
  },
  {
   "cell_type": "code",
   "execution_count": 4,
   "id": "9ed37f9e",
   "metadata": {},
   "outputs": [
    {
     "data": {
      "text/plain": [
       "English       1385\n",
       "French        1014\n",
       "Spanish        819\n",
       "Portugeese     739\n",
       "Italian        698\n",
       "Russian        692\n",
       "Sweedish       676\n",
       "Malayalam      594\n",
       "Dutch          546\n",
       "Arabic         536\n",
       "Turkish        474\n",
       "German         470\n",
       "Tamil          469\n",
       "Danish         428\n",
       "Kannada        369\n",
       "Greek          365\n",
       "Hindi           63\n",
       "Name: Language, dtype: int64"
      ]
     },
     "execution_count": 4,
     "metadata": {},
     "output_type": "execute_result"
    }
   ],
   "source": [
    "data[\"Language\"].value_counts()"
   ]
  },
  {
   "cell_type": "code",
   "execution_count": 5,
   "id": "543a824a",
   "metadata": {},
   "outputs": [
    {
     "data": {
      "text/plain": [
       "17"
      ]
     },
     "execution_count": 5,
     "metadata": {},
     "output_type": "execute_result"
    }
   ],
   "source": [
    "data[\"Language\"].nunique()"
   ]
  },
  {
   "cell_type": "markdown",
   "id": "47a85562",
   "metadata": {},
   "source": [
    "There are 17 languages in dataset."
   ]
  },
  {
   "cell_type": "code",
   "execution_count": 6,
   "id": "bd09e4b0",
   "metadata": {},
   "outputs": [],
   "source": [
    "#Separating Independent and Dependent features\n",
    "X = data[\"Text\"]\n",
    "y = data[\"Language\"]\n",
    "\n",
    "#Label Encoding to convert it into a numerical form\n",
    "#For example, English as 3.. similarily all languages are given a unique label\n",
    "from sklearn.preprocessing import LabelEncoder\n",
    "le = LabelEncoder()\n",
    "y = le.fit_transform(y)"
   ]
  },
  {
   "cell_type": "code",
   "execution_count": 7,
   "id": "8158aeb1",
   "metadata": {},
   "outputs": [
    {
     "data": {
      "text/plain": [
       "array([3, 3, 3, ..., 9, 9, 9])"
      ]
     },
     "execution_count": 7,
     "metadata": {},
     "output_type": "execute_result"
    }
   ],
   "source": [
    "y"
   ]
  },
  {
   "cell_type": "code",
   "execution_count": 8,
   "id": "8af9a072",
   "metadata": {},
   "outputs": [],
   "source": [
    "data_list = []\n",
    "\n",
    "# iterating through all the text\n",
    "for text in X:         \n",
    "    text = re.sub(r'[!@#$(),n\"%^*?:;~`0-9]', ' ', text)      # removing the symbols and numbers\n",
    "    text = re.sub(r'[[]]', ' ', text)   \n",
    "    text = text.lower()          # converting the text to lower case\n",
    "    data_list.append(text)       # appending to data_list"
   ]
  },
  {
   "cell_type": "code",
   "execution_count": 9,
   "id": "5303d777",
   "metadata": {},
   "outputs": [
    {
     "data": {
      "text/plain": [
       "(10337, 34937)"
      ]
     },
     "execution_count": 9,
     "metadata": {},
     "output_type": "execute_result"
    }
   ],
   "source": [
    "#Bag of Words [ converting text into numerical form by creating a Bag of Words model using CountVectorizer.]\n",
    "from sklearn.feature_extraction.text import CountVectorizer\n",
    "cv = CountVectorizer() # tokenize a collection of text documents\n",
    "X = cv.fit_transform(data_list).toarray()\n",
    "X.shape # (10337, 39419)"
   ]
  },
  {
   "cell_type": "markdown",
   "id": "7526ca32",
   "metadata": {},
   "source": [
    "As the model can't understand textual data, all the data is sent in numerical format to the model after preprocessing data(removing symbols, spaces).\n",
    "The textual data need to be vectorized.\n",
    "\n",
    "Countvectorizer Tokenization(Tokenization Means Breaking Down A Sentence Into Words By Performing Preprocessing Tasks Like Converting All Words To Lowercase, Removing Special Characters, Etc.\n",
    "\n",
    "Bag of Words(BOW) model represents text that describes the occurence of words within a document. It follows binary representation. 1 for frequent occurence of a word and 0 if word is not occuring"
   ]
  },
  {
   "cell_type": "code",
   "execution_count": 10,
   "id": "88fe3a72",
   "metadata": {},
   "outputs": [],
   "source": [
    "#train-test split\n",
    "from sklearn.model_selection import train_test_split\n",
    "x_train, x_test, y_train, y_test = train_test_split(X, y, test_size = 0.20, random_state=42)"
   ]
  },
  {
   "cell_type": "code",
   "execution_count": 11,
   "id": "51c360b2",
   "metadata": {},
   "outputs": [
    {
     "data": {
      "text/plain": [
       "MultinomialNB()"
      ]
     },
     "execution_count": 11,
     "metadata": {},
     "output_type": "execute_result"
    }
   ],
   "source": [
    "# Model Training\n",
    "from sklearn.naive_bayes import MultinomialNB  #classifier is suitable for classification with discrete features\n",
    "model = MultinomialNB()\n",
    "model.fit(x_train, y_train)"
   ]
  },
  {
   "cell_type": "markdown",
   "id": "42ba1c18",
   "metadata": {},
   "source": [
    "The multinomial Naive Bayes classifier is suitable for classification with discrete features (e.g., word counts for text classification)."
   ]
  },
  {
   "cell_type": "code",
   "execution_count": 12,
   "id": "f8585570",
   "metadata": {},
   "outputs": [],
   "source": [
    "#predict output for test dataset\n",
    "y_pred = model.predict(x_test)"
   ]
  },
  {
   "cell_type": "code",
   "execution_count": 13,
   "id": "f72e4139",
   "metadata": {},
   "outputs": [],
   "source": [
    "from sklearn.metrics import accuracy_score, confusion_matrix, classification_report\n",
    "ac = accuracy_score(y_test, y_pred)\n",
    "cm = confusion_matrix(y_test, y_pred)"
   ]
  },
  {
   "cell_type": "code",
   "execution_count": 14,
   "id": "37c606e3",
   "metadata": {},
   "outputs": [
    {
     "name": "stdout",
     "output_type": "stream",
     "text": [
      "Accuracy is : 0.9796905222437138\n"
     ]
    }
   ],
   "source": [
    "print(\"Accuracy is :\",ac)"
   ]
  },
  {
   "cell_type": "code",
   "execution_count": 15,
   "id": "adcf5cfd",
   "metadata": {},
   "outputs": [
    {
     "data": {
      "image/png": "[encoded data removed]",
      "text/plain": [
       "<Figure size 1080x720 with 2 Axes>"
      ]
     },
     "metadata": {
      "needs_background": "light"
     },
     "output_type": "display_data"
    }
   ],
   "source": [
    "plt.figure(figsize=(15,10))\n",
    "sns.heatmap(cm, annot = True)\n",
    "plt.show()"
   ]
  },
  {
   "cell_type": "code",
   "execution_count": 16,
   "id": "4dbbc541",
   "metadata": {},
   "outputs": [],
   "source": [
    "#Predicting with some more data\n",
    "\n",
    "def predict(text):\n",
    "     x = cv.transform([text]).toarray() # converting text to bag of words model (Vector)\n",
    "     lang = model.predict(x) # predicting the language\n",
    "     lang = le.inverse_transform(lang) # finding the language corresponding the the predicted value\n",
    "     print(\"The langauge is in\",lang[0]) # printing the language"
   ]
  },
  {
   "cell_type": "code",
   "execution_count": 17,
   "id": "0e8ec3f3",
   "metadata": {},
   "outputs": [
    {
     "name": "stdout",
     "output_type": "stream",
     "text": [
      "The langauge is in English\n"
     ]
    }
   ],
   "source": [
    "predict('People are awesome')"
   ]
  },
  {
   "cell_type": "code",
   "execution_count": 18,
   "id": "609cf6e1",
   "metadata": {},
   "outputs": [
    {
     "name": "stdout",
     "output_type": "stream",
     "text": [
      "The langauge is in Malayalam\n"
     ]
    }
   ],
   "source": [
    "predict('നൽകുന്നു')"
   ]
  },
  {
   "cell_type": "code",
   "execution_count": 19,
   "id": "35af08e8",
   "metadata": {},
   "outputs": [
    {
     "name": "stdout",
     "output_type": "stream",
     "text": [
      "The langauge is in Hindi\n"
     ]
    }
   ],
   "source": [
    "predict('अरे आप कैसे हैं')"
   ]
  },
  {
   "cell_type": "code",
   "execution_count": 21,
   "id": "fcf3fc8c",
   "metadata": {},
   "outputs": [
    {
     "name": "stdout",
     "output_type": "stream",
     "text": [
      "The langauge is in English\n"
     ]
    }
   ],
   "source": [
    "predict('Bugün nasılsın') #turkish"
   ]
  },
  {
   "cell_type": "code",
   "execution_count": 22,
   "id": "8c50005c",
   "metadata": {},
   "outputs": [
    {
     "name": "stdout",
     "output_type": "stream",
     "text": [
      "The langauge is in English\n"
     ]
    }
   ],
   "source": [
    "predict('ನೀವು ಇಂದು ಹೇಗಿದ್ದೀರಿ')"
   ]
  },
  {
   "cell_type": "markdown",
   "id": "ce1fe747",
   "metadata": {},
   "source": [
    "As the above model is not predicting the right languages based on text, we will try a different model."
   ]
  },
  {
   "cell_type": "markdown",
   "id": "e9e801c3",
   "metadata": {},
   "source": [
    "# Using FastText"
   ]
  },
  {
   "cell_type": "code",
   "execution_count": 3,
   "id": "1edced71",
   "metadata": {},
   "outputs": [
    {
     "name": "stdout",
     "output_type": "stream",
     "text": [
      "Defaulting to user installation because normal site-packages is not writeable\n",
      "Collecting fasttext\n",
      "  Using cached fasttext-0.9.2.tar.gz (68 kB)\n",
      "Requirement already satisfied: pybind11>=2.2 in c:\\users\\asjas\\appdata\\roaming\\python\\python39\\site-packages (from fasttext) (2.10.4)\n",
      "Requirement already satisfied: setuptools>=0.7.0 in c:\\programdata\\anaconda3\\lib\\site-packages (from fasttext) (61.2.0)\n",
      "Note: you may need to restart the kernel to use updated packages.Requirement already satisfied: numpy in c:\\programdata\\anaconda3\\lib\\site-packages (from fasttext) (1.21.5)\n",
      "Building wheels for collected packages: fasttext\n",
      "  Building wheel for fasttext (setup.py): started\n",
      "  Building wheel for fasttext (setup.py): still running...\n",
      "  Building wheel for fasttext (setup.py): finished with status 'done'\n",
      "  Created wheel for fasttext: filename=fasttext-0.9.2-cp39-cp39-win_amd64.whl size=227412 sha256=32b53bf33c30e7e374d02ba992dc06a31c14f7bc45ac5ce1ab35e91c70300aa8\n",
      "\n",
      "  Stored in directory: c:\\users\\asjas\\appdata\\local\\pip\\cache\\wheels\\64\\57\\bc\\1741406019061d5664914b070bd3e71f6244648732bc96109e\n",
      "Successfully built fasttext\n",
      "Installing collected packages: fasttext\n",
      "Successfully installed fasttext-0.9.2\n"
     ]
    }
   ],
   "source": [
    "pip install fasttext"
   ]
  },
  {
   "cell_type": "code",
   "execution_count": 7,
   "id": "3cb5bf85",
   "metadata": {},
   "outputs": [],
   "source": [
    "import fasttext as ft"
   ]
  },
  {
   "cell_type": "markdown",
   "id": "6a02e968",
   "metadata": {},
   "source": [
    "FastText is an open-source and lightweight library developed by Facebook AI Research. It efficiently handles large datasets, allowing for the classification of billions of words in milliseconds. \n",
    "\n",
    "FastText also provides pre-trained word vectors for 157 languages, allowing for transfer learning and quick integration into NLP models. With its user-friendly interface and high performance, FastText has become a popular choice for NLP tasks such as sentiment analysis, spam filtering, and language identification."
   ]
  },
  {
   "cell_type": "markdown",
   "id": "499ae4f4",
   "metadata": {},
   "source": [
    "There are several reasons why FastText is fast while maintaining performance. Some of them are:\n",
    "\n",
    "- It is implemented in C++\n",
    "- It allows you to use multiprocessing during training\n",
    "- Based on a simple neural network architecture"
   ]
  },
  {
   "cell_type": "code",
   "execution_count": 10,
   "id": "7d817177",
   "metadata": {},
   "outputs": [
    {
     "name": "stderr",
     "output_type": "stream",
     "text": [
      "Warning : `load_model` does not return WordVectorModel or SupervisedModel any more, but a `FastText` object which is very similar.\n"
     ]
    }
   ],
   "source": [
    "model = ft.load_model('lid.176.ftz')\n",
    "#lid.176.ftz: A model trained on text of 176 different languages. \n",
    "#This is the most common pre-trained model available for language detection."
   ]
  },
  {
   "cell_type": "code",
   "execution_count": 11,
   "id": "51e9468e",
   "metadata": {},
   "outputs": [
    {
     "name": "stdout",
     "output_type": "stream",
     "text": [
      "(('__label__en',), array([0.96859217]))\n"
     ]
    }
   ],
   "source": [
    "language = model.predict('This is a sentence in English')\n",
    "# Print predicted language\n",
    "print(language)"
   ]
  },
  {
   "cell_type": "markdown",
   "id": "d8719ea3",
   "metadata": {},
   "source": [
    "af – Afrikaans\tlv – Latvian\tho – Hiri Motu\n",
    "am – Amharic\tmg – Malagasy\thz – Herero\n",
    "an – Aragonese\tmi – Maori\tii – Sichuan Yi\n",
    "ar – Arabic\tmk – Macedonian\tinh – Ingush\n",
    "as – Assamese\tml – Malayalam\tjbo – Lojban\n",
    "az – Azerbaijani\tmn – Mongolian\tkl – Kalaallisut\n",
    "be – Belarusian\tmr – Marathi\tks – Kashmiri\n",
    "bg – Bulgarian\tms – Malay\tku-Latn – Central Kurdish (Latin)\n",
    "bn – Bengali\tmt – Maltese\tkv – Komi\n",
    "br – Breton\tmy – Burmese\tlb – Luxembourgish\n",
    "bs – Bosnian\tne – Nepali\tlg – Ganda\n",
    "ca – Catalan\tnl – Dutch\tmh – Marshallese\n",
    "ceb – Cebuano\tno – Norwegian\tmi – Māori\n",
    "co – Corsican\tny – Chichewa\tmrj – Hill Mari\n",
    "cs – Czech\tpa – Punjabi\tnah – Nahuatl\n",
    "cy – Welsh\tpl – Polish\tnap – Neapolitan\n",
    "da – Danish\tpt – Portuguese\tnb – Norwegian Bokmål\n",
    "de – German\tro – Romanian\tnn – Norwegian Nynorsk\n",
    "el – Greek\tru – Russian\tno – Norwegian\n",
    "en – English\tsd – Sindhi\toc – Occitan\n",
    "eo – Esperanto\tsi – Sinhala\tos – Ossetian\n",
    "es – Spanish\tsk – Slovak\tpi – Pali\n",
    "et – Estonian\tsl – Slovenian\tps – Pashto\n",
    "eu – Basque\tsm – Samoan\tqu – Quechua\n",
    "fa – Persian\tsn – Shona\trm – Romansh\n",
    "fi – Finnish\tso – Somali\trn – Rundi\n",
    "fr – French\tsq – Albanian\trw – Kinyarwanda\n",
    "fy – Western Frisian\tsr – Serbian\tsc – Sardinian\n",
    "ga – Irish\tst – Sotho\tse – Northern Sami\n",
    "gd – Scottish Gaelic\tsu – Sundanese\tsg – Sango\n",
    "gl – Galician\tsv – Swedish\ttk – Turkmen\n",
    "gu – Gujarati\tsw – Swahili\ttlh – Klingon\n",
    "ha – Hausa\tta – Tamil\ttn – Tswana\n",
    "haw – Hawaiian\tte – Telugu\tto – Tongan\n",
    "hi – Hindi\ttg – Tajik\ttw – Twi\n",
    "hmn – Hmong\tth – Thai\tty – Tahitian\n",
    "hr – Croatian\ttl – Tagalog\tug – Uighur\n",
    "ht – Haitian Creole\ttr – Turkish\tve – Venda\n",
    "hu – Hungarian\tuk – Ukrainian\tvo – Volapük\n",
    "hy – Armenian\tur – Urdu\twa – Walloon\n",
    "id – Indonesian\tuz – Uzbek\two – Wolof\n",
    "ig – Igbo\tvi – Vietnamese\txog – Soga\n",
    "is – Icelandic\txh – Xhosa\tyue – Cantonese\n",
    "it – Italian\tyi – Yiddish\tza – Zhuang\n",
    "iw – Hebrew\tyo – Yoruba\tace – Acehnese\n",
    "ja – Japanese\tzh – Chinese\tach – Akan\n",
    "jw – Javanese\tzu – Zulu\tady – Adyghe\n",
    "ka – Georgian\tak – Akan\taln – Gheg Albanian\n",
    "kk – Kazakh\tbh – Bihari\talt – Southern Altai\n",
    "km – Khmer\tbi – Bislama\tanp – Angika\n",
    "kn – Kannada\tbm – Bambara\tarn – Mapudungun\n",
    "ko – Korean\tchr – Cherokee\tarq – Algerian Arabic\n",
    "ku – Kurdish\tdv – Divehi\tast – Asturian\n",
    "ky – Kyrgyz\tdz – Dzongkha\tav – Avar\n",
    "la – Latin\tee – Ewe\tazb – South Azerbaijani\n",
    "lb – Luxembourgish\tff – Fulah\tba – Bashkir\n",
    "lo – Lao\tgv – Manx\tbar – Bavarian\n",
    "lt – Lithuanian\thak – Hakka Chinese\tbbc – Batak Toba\n",
    "bcl – Central Bicolano\tbe-tarask – Belarusian (Taraškievica)\t"
   ]
  },
  {
   "cell_type": "code",
   "execution_count": 13,
   "id": "3495f66d",
   "metadata": {},
   "outputs": [
    {
     "data": {
      "text/plain": [
       "(('__label__tr',), array([0.98389137]))"
      ]
     },
     "execution_count": 13,
     "metadata": {},
     "output_type": "execute_result"
    }
   ],
   "source": [
    "model.predict('Bugün nasılsın')"
   ]
  },
  {
   "cell_type": "code",
   "execution_count": 14,
   "id": "e4219d5b",
   "metadata": {},
   "outputs": [
    {
     "data": {
      "text/plain": [
       "(('__label__kn',), array([0.99934846]))"
      ]
     },
     "execution_count": 14,
     "metadata": {},
     "output_type": "execute_result"
    }
   ],
   "source": [
    "model.predict('ನೀವು ಇಂದು ಹೇಗಿದ್ದೀರಿ')"
   ]
  },
  {
   "cell_type": "code",
   "execution_count": null,
   "id": "8edcdd5d",
   "metadata": {},
   "outputs": [],
   "source": []
  }
 ],
 "metadata": {
  "kernelspec": {
   "display_name": "Python 3 (ipykernel)",
   "language": "python",
   "name": "python3"
  },
  "language_info": {
   "codemirror_mode": {
    "name": "ipython",
    "version": 3
   },
   "file_extension": ".py",
   "mimetype": "text/x-python",
   "name": "python",
   "nbconvert_exporter": "python",
   "pygments_lexer": "ipython3",
   "version": "3.9.12"
  }
 },
 "nbformat": 4,
 "nbformat_minor": 5
}
